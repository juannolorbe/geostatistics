{
  "nbformat": 4,
  "nbformat_minor": 0,
  "metadata": {
    "colab": {
      "name": "Covarianza.ipynb",
      "provenance": [],
      "collapsed_sections": [],
      "include_colab_link": true
    },
    "kernelspec": {
      "name": "python3",
      "display_name": "Python 3"
    }
  },
  "cells": [
    {
      "cell_type": "markdown",
      "metadata": {
        "id": "view-in-github",
        "colab_type": "text"
      },
      "source": [
        "<a href=\"https://colab.research.google.com/github/juannolorbe/geostatistics/blob/master/Covarianza.ipynb\" target=\"_parent\"><img src=\"https://colab.research.google.com/assets/colab-badge.svg\" alt=\"Open In Colab\"/></a>"
      ]
    },
    {
      "cell_type": "markdown",
      "metadata": {
        "id": "Lg6nr9MP29rn",
        "colab_type": "text"
      },
      "source": [
        "# Interpretación geométrica de la matriz covarianza\n",
        "\n"
      ]
    },
    {
      "cell_type": "markdown",
      "metadata": {
        "id": "PW4dDu583I1Q",
        "colab_type": "text"
      },
      "source": [
        "# 1. Introducción\n",
        "\n",
        "En este artículo revisaremos una interpretación geométrica e intuitiva de la matriz de covarianza, al explorar la relación entre las transformaciones lineales y la covarianza de los datos resultantes. \n",
        "\n"
      ]
    },
    {
      "cell_type": "markdown",
      "metadata": {
        "id": "oeVhqeMdHKBd",
        "colab_type": "text"
      },
      "source": [
        "# 2. Varianza\n",
        "\n",
        "La varianza mide qué tan dispersos están los datos alrededor de su media. \n",
        "\n",
        "\\begin{equation}\n",
        "{\\sigma}_x^2=\\frac{1}{N} \\sum_{i=1}^{N} {(x_i-\\mu)^2} \n",
        "\\end{equation}\n",
        "\n",
        "\\begin{equation}\n",
        "{\\sigma_x^2=E((x-E(x))(x-E(x)))} \n",
        "\\end{equation}\n",
        "\n",
        "\\begin{equation}\n",
        "{\\sigma_x^2=\\sigma (x,x)} \n",
        "\\end{equation}\n",
        "\n",
        "**Interpretación**\n",
        "\n",
        "La varianza de los datos de la muestra es una estimación de la varianza de la población.\n",
        "\n",
        "Puesto que la varianza se basa en los datos de una muestra y no en toda la población, es improbable que la varianza de la muestra sea igual a la varianza de la población. Para estimar  la varianza de la población, es necesario utilizar un intervalo de confianza.\n",
        "\n",
        "*Varianza muestral*\n",
        "\n",
        "\\begin{equation}\n",
        "s_x^2=\\frac{1}{N-1} \\sum_{i=1}^{N} {(x_i-\\mu)^2} \n",
        "\\end{equation}\n",
        "\n",
        "\n"
      ]
    },
    {
      "cell_type": "markdown",
      "metadata": {
        "id": "2fYTUuzOLZll",
        "colab_type": "text"
      },
      "source": [
        "# 3. Desviación estándar\n",
        "\n",
        "La desviación estándar es la medida de dispersión más común, que indica qué tan dispersos están los datos alrededor de la media. El símbolo $\\sigma_x$ se utiliza frecuentemente para representar la desviación estándar de una población, mientras que $s_x$ se utiliza para representar la desviación estándar de una muestra. \n",
        "\n",
        "\\begin{equation}\n",
        "\\sigma_x =\\sqrt{\\sigma (x,x)}= \\sqrt{\\sigma _x^2}\n",
        "\\end{equation}\n",
        "\n",
        "La variación aleatoria o natural de un proceso se conoce comúnmente como ruido.\n",
        "\n",
        "La desviación estándar utiliza las mismas unidades que los datos.\n",
        "\n",
        "![DesviaciónEstándar](http://www.visiondummy.com/wp-content/uploads/2014/03/gaussiandensity.png)\n",
        "\n",
        "*Figura 1. Para una distribución normal de los datos, el 68% de los valores se encuentran dentro del intervalo definido por la media más y menos una desviación estándar.*"
      ]
    },
    {
      "cell_type": "markdown",
      "metadata": {
        "id": "oc0UFuRY8XsH",
        "colab_type": "text"
      },
      "source": [
        "## La covarianza\n",
        "\n",
        "Si consideramos un espacio de características 2-D,  donde las variables son $X$ e $Y$,  la varianza de cada una de las variables explica la dispersión en las direcciones paralelas a los ejes del espacio de caracterísitcas. \n",
        "Considere el espacio de características 2D que se muestra en la Figura 2. \n",
        "\n",
        "La covarianza se mide: \n",
        "\n",
        "\\begin{equation}\n",
        "\\sigma_{xy}=\\frac{1}{N} \\sum_{i=1}^{N} {(x_i-\\mu_x)(y_i-\\mu_y)} \n",
        "\\end{equation}\n",
        "\n",
        "\\begin{equation}\n",
        "\\sigma_{xy}=\\sigma (x,y)=E((x-E(x))(y-E(y))) \n",
        "\\end{equation}\n",
        "\n",
        "\n",
        "\n",
        "![Varianza](http://www.visiondummy.com/wp-content/uploads/2014/04/transformeddata.png)\n",
        "\n",
        "*Figura 2. La dispersión diagonal de los datos es capturada por la covarianza.*\n",
        "\n",
        "\n"
      ]
    },
    {
      "cell_type": "code",
      "metadata": {
        "id": "MWGfaGBH2s-j",
        "colab_type": "code",
        "colab": {}
      },
      "source": [
        ""
      ],
      "execution_count": 0,
      "outputs": []
    }
  ]
}